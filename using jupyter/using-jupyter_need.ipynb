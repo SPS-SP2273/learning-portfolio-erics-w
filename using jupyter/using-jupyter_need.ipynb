{
 "cells": [
  {
   "cell_type": "code",
   "execution_count": 1,
   "id": "66414de9",
   "metadata": {},
   "outputs": [
    {
     "name": "stdout",
     "output_type": "stream",
     "text": [
      "Hello WOrld!\n"
     ]
    }
   ],
   "source": [
    "print('Hello WOrld!')"
   ]
  },
  {
   "cell_type": "markdown",
   "id": "33a83af8",
   "metadata": {},
   "source": [
    "The ships hung in the sky in much the same way that bricks don’t."
   ]
  },
  {
   "cell_type": "markdown",
   "id": "bf56c04b",
   "metadata": {},
   "source": [
    "The ships *hung in the sky* in much the same way that **bricks don’t.**<sup>1</sup><sub>QUOTE</sub>"
   ]
  },
  {
   "cell_type": "markdown",
   "id": "fe5cf2e7",
   "metadata": {},
   "source": [
    "# The Largest Heading\n",
    "## The Second-largest Heading\n",
    "### The Third-largest Heading"
   ]
  },
  {
   "cell_type": "markdown",
   "id": "3e25c9a0",
   "metadata": {},
   "source": [
    "#### 4"
   ]
  },
  {
   "cell_type": "markdown",
   "id": "b60ec3be",
   "metadata": {},
   "source": [
    "```python\n",
    "print('Hello World!')\n",
    "```"
   ]
  },
  {
   "cell_type": "markdown",
   "id": "4873d248",
   "metadata": {},
   "source": [
    "``python\n",
    "print('Hello World!')\n",
    "``"
   ]
  },
  {
   "cell_type": "markdown",
   "id": "2673c989",
   "metadata": {},
   "source": [
    "`python\n",
    "print('Hello World!')\n",
    "`"
   ]
  },
  {
   "cell_type": "markdown",
   "id": "c41cec94",
   "metadata": {},
   "source": [
    "[SP2273 Website](https://sps.nus.edu.sg/sp2273)"
   ]
  },
  {
   "cell_type": "markdown",
   "id": "e4b4d545",
   "metadata": {},
   "source": [
    "![](https://nus.edu.sg/images/default-source/base/logo.png)"
   ]
  },
  {
   "cell_type": "markdown",
   "id": "ec3b070a",
   "metadata": {},
   "source": [
    "![](1084184.jpg)"
   ]
  },
  {
   "cell_type": "markdown",
   "id": "9a34815a",
   "metadata": {},
   "source": [
    "![](C:\\Users\\DELL\\Pictures\\Wallpapers\\1084184.jpg)"
   ]
  },
  {
   "cell_type": "markdown",
   "id": "4dc222ea",
   "metadata": {},
   "source": [
    "![](C:\\\\Users\\DELL\\Pictures\\Wallpapers\\1084184.jpg)"
   ]
  },
  {
   "cell_type": "markdown",
   "id": "7baec54e",
   "metadata": {},
   "source": [
    "| A    |  B   |    C |\n",
    "| :--- | :--: | ---: |\n",
    "| a1   |  b1  |   c1 |\n",
    "| a2   |  b2  |   c2 |\n",
    "| a3   |  b3  |   c3 |"
   ]
  },
  {
   "cell_type": "markdown",
   "id": "b456ee7e",
   "metadata": {},
   "source": [
    "```\n",
    "| A    |  B   |    C |\n",
    "| :--- | :--: | ---: |\n",
    "| a1   |  b1  |   c1 |\n",
    "| a2   |  b2  |   c2 |\n",
    "| a3   |  b3  |   c3 |\n",
    "```"
   ]
  },
  {
   "cell_type": "markdown",
   "id": "c2fdae1d",
   "metadata": {},
   "source": [
    "1. Master Yoda\n",
    "1. Luke Skywalker\n",
    "1. Anakin Skywalker"
   ]
  },
  {
   "cell_type": "markdown",
   "id": "e4ca8143",
   "metadata": {},
   "source": [
    "1. Master Yoda\n",
    "2. Luke Skywalker\n",
    "3. Anakin Skywalker"
   ]
  },
  {
   "cell_type": "markdown",
   "id": "6cfeae45",
   "metadata": {},
   "source": [
    "- Master Yoda\n",
    "- Luke Skywalker\n",
    "- Anakin Skywalker\n",
    "   - Not Luke\n",
    "      - Not Yoda"
   ]
  },
  {
   "cell_type": "markdown",
   "id": "eb68760a",
   "metadata": {},
   "source": [
    "1. Master Yoda\n",
    "   1. Was a Jedi\n",
    "   2. Was a bit green\n",
    "1. Luke Skywalker\n",
    "   1. Was a Jedi\n",
    "   2. Is Anakin's son.\n",
    "1. Anakin Skywalker\n",
    "   1. Was a Jedi then became a baddie\n",
    "   2. Is famous for saying 'Luke, I am your father'\n",
    "1. Apple\n",
    "   1. Red\n",
    "   2. Nice\n",
    "   3. Green\n",
    "      1. Not Nice\n",
    "      2. Not Red\n",
    "         1. Green\n",
    "            1. Is this a loop?"
   ]
  },
  {
   "cell_type": "markdown",
   "id": "125d09d4",
   "metadata": {},
   "source": [
    "1. Master Yoda\n",
    "   - Was a Jedi\n",
    "   - Was a bit green\n",
    "2. Luke Skywalker\n",
    "   - Was a Jedi\n",
    "   - Is Anakin's son.\n",
    "3. Anakin Skywalker\n",
    "   - Was a Jedi then became a baddie\n",
    "   - Is famous for saying 'Luke, I am your father'"
   ]
  },
  {
   "cell_type": "markdown",
   "id": "0d5db055",
   "metadata": {},
   "source": [
    "$\\sqrt{b^2-4ac}$"
   ]
  },
  {
   "cell_type": "markdown",
   "id": "5fde8add",
   "metadata": {},
   "source": [
    "$$\n",
    "x = \\dfrac{-b \\pm \\sqrt{b^2-4ac}}{2a}\n",
    "$$"
   ]
  },
  {
   "cell_type": "markdown",
   "id": "3f297e3a",
   "metadata": {},
   "source": [
    "$x = \\dfrac{-b \\pm \\sqrt{b^2-4ac}}{2a}$"
   ]
  },
  {
   "cell_type": "markdown",
   "id": "e65ddb7d",
   "metadata": {},
   "source": [
    "$\\int_{x=1}^{x=\\infty} f(x)dx$"
   ]
  },
  {
   "cell_type": "markdown",
   "id": "567b82f4",
   "metadata": {},
   "source": [
    "$diff f(x)dx$\n"
   ]
  },
  {
   "cell_type": "markdown",
   "id": "1fa88a6e",
   "metadata": {},
   "source": [
    "### **Quadratic Equations**\n"
   ]
  },
  {
   "cell_type": "markdown",
   "id": "bcff7915",
   "metadata": {},
   "source": [
    "![](https://upload.wikimedia.org/wikipedia/commons/f/f8/Polynomialdeg2.svg)\n",
    "(Image from the [Wikipedia page on Quadratic equations](https://en.wikipedia.org/wiki/Quadratic_equation))"
   ]
  },
  {
   "cell_type": "markdown",
   "id": "6b381d8b",
   "metadata": {},
   "source": [
    "### Introduction"
   ]
  },
  {
   "cell_type": "markdown",
   "id": "936b00d9",
   "metadata": {},
   "source": [
    "The general form of a quadratic equation is:"
   ]
  },
  {
   "cell_type": "markdown",
   "id": "a9ed99ad",
   "metadata": {},
   "source": [
    "$$ax^2 + bx + c = 0$$"
   ]
  },
  {
   "cell_type": "markdown",
   "id": "f5370be6",
   "metadata": {},
   "source": [
    "**Solutions** Provided $a ≠ 0$, we can use an elementary algebraic method called [completeing the square](https://en.wikipedia.org/wiki/Completing_the_square) to show that a quadratic equation has the following solution:"
   ]
  },
  {
   "cell_type": "markdown",
   "id": "76f85eaf",
   "metadata": {},
   "source": [
    "$$\n",
    "x = \\dfrac{-b \\pm \\sqrt{b^2-4ac}}{2a}\n",
    "$$"
   ]
  },
  {
   "cell_type": "markdown",
   "id": "cb69af30",
   "metadata": {},
   "source": [
    "### **Discriminant**"
   ]
  },
  {
   "cell_type": "markdown",
   "id": "a6e6abc6",
   "metadata": {},
   "source": [
    "The quantity $Δ=b^2−4ac$\n",
    " is called the **discriminant** of the equation and decides the nature of its solutions. The table below shows the various possibilities."
   ]
  },
  {
   "cell_type": "markdown",
   "id": "ee853273",
   "metadata": {},
   "source": [
    "| **Discriminant** | **Roots**   |\n",
    "| :--: | :--- |\n",
    "| $$\\Delta = b^2 - 4ac = 0$$   |  \tA single solution of $−b/2a$  |\n",
    "| $$\\Delta = b^2 - 4ac > 0$$   |  Two distinct solutions  |\n",
    "| $$\\Delta = b^2 - 4ac < 0$$   |  No real solutions; both are complex.  |"
   ]
  },
  {
   "cell_type": "markdown",
   "id": "643051ff",
   "metadata": {},
   "source": [
    "1. A folder that have our files\n",
    "2. Changes\n",
    "3. To save changes locally\n",
    "4. Uploading changes to the main server\n",
    "5. GitHub is like a server while GitHub Desktop is the app that allows us to upload into the GitHub\n",
    "6. Fetch"
   ]
  },
  {
   "cell_type": "markdown",
   "id": "d4ad07c0",
   "metadata": {},
   "source": [
    "1. A folder that have our files and tracks all changes made to them.\n",
    "2. Changes\n",
    "3. Commit confirms the changes made by saving before being pushed to the main repository.\n",
    "4. Uploading changes to the main server\n",
    "5. GitHub is like a server while GitHub Desktop is the app that allows us to upload into the GitHub\n",
    "6. Fetch downloads content from remote repository. The opposite of push is pull, which is fetch + copying said changes from the remote repository into the local repository"
   ]
  },
  {
   "cell_type": "markdown",
   "id": "e6fcca0f",
   "metadata": {},
   "source": [
    "aaaaaaaaaaaaa"
   ]
  },
  {
   "cell_type": "code",
   "execution_count": 20,
   "id": "d15fc9c0",
   "metadata": {},
   "outputs": [],
   "source": [
    "import os"
   ]
  },
  {
   "cell_type": "code",
   "execution_count": 21,
   "id": "23bb7c33",
   "metadata": {},
   "outputs": [
    {
     "data": {
      "text/plain": [
       "'E:\\\\Studies\\\\NUS\\\\Semester 2\\\\SP2273\\\\GitHub'"
      ]
     },
     "execution_count": 21,
     "metadata": {},
     "output_type": "execute_result"
    }
   ],
   "source": [
    "os.getcwd()"
   ]
  },
  {
   "cell_type": "code",
   "execution_count": null,
   "id": "d63f2854",
   "metadata": {},
   "outputs": [],
   "source": []
  }
 ],
 "metadata": {
  "kernelspec": {
   "display_name": "Python 3 (ipykernel)",
   "language": "python",
   "name": "python3"
  },
  "language_info": {
   "codemirror_mode": {
    "name": "ipython",
    "version": 3
   },
   "file_extension": ".py",
   "mimetype": "text/x-python",
   "name": "python",
   "nbconvert_exporter": "python",
   "pygments_lexer": "ipython3",
   "version": "3.10.8"
  },
  "toc": {
   "base_numbering": 1,
   "nav_menu": {},
   "number_sections": true,
   "sideBar": true,
   "skip_h1_title": false,
   "title_cell": "Table of Contents",
   "title_sidebar": "Contents",
   "toc_cell": false,
   "toc_position": {},
   "toc_section_display": true,
   "toc_window_display": false
  },
  "varInspector": {
   "cols": {
    "lenName": 16,
    "lenType": 16,
    "lenVar": 40
   },
   "kernels_config": {
    "python": {
     "delete_cmd_postfix": "",
     "delete_cmd_prefix": "del ",
     "library": "var_list.py",
     "varRefreshCmd": "print(var_dic_list())"
    },
    "r": {
     "delete_cmd_postfix": ") ",
     "delete_cmd_prefix": "rm(",
     "library": "var_list.r",
     "varRefreshCmd": "cat(var_dic_list()) "
    }
   },
   "types_to_exclude": [
    "module",
    "function",
    "builtin_function_or_method",
    "instance",
    "_Feature"
   ],
   "window_display": false
  }
 },
 "nbformat": 4,
 "nbformat_minor": 5
}
