{
 "cells": [
  {
   "cell_type": "markdown",
   "id": "123456",
   "metadata": {},
   "source": [
    "<div style=\"text-align:left;font-size:2em\"><span style=\"font-weight:bolder;font-size:1.25em\">SP2273 | Learning Portfolio</span><br><br><span style=\"font-weight:bold;color:darkred\">Using Jupyter (Good)</span></div>"
   ]
  },
  {
   "cell_type": "markdown",
   "id": "ca169679",
   "metadata": {},
   "source": [
    "## 1 Some tips and tricks"
   ]
  },
  {
   "cell_type": "markdown",
   "id": "7f47280d",
   "metadata": {},
   "source": [
    "### 1.1 Keyboard Shortcuts"
   ]
  },
  {
   "cell_type": "code",
   "execution_count": 1,
   "id": "974dab20",
   "metadata": {},
   "outputs": [],
   "source": [
    "\n",
    "# Your code here\n"
   ]
  },
  {
   "cell_type": "markdown",
   "id": "c14a8ba2",
   "metadata": {},
   "source": [
    "### 1.2 Shell commands"
   ]
  },
  {
   "cell_type": "code",
   "execution_count": 2,
   "id": "c04e888b",
   "metadata": {},
   "outputs": [
    {
     "name": "stdout",
     "output_type": "stream",
     "text": [
      " Volume in drive E is DATA\n",
      " Volume Serial Number is 6220-D816\n",
      "\n",
      " Directory of E:\\Studies\\NUS\\Semester 2\\SP2273\\GitHub\\learning-portfolio-erics-w\\using jupyter\n",
      "\n",
      "13/01/2023  13:21    <DIR>          .\n",
      "13/01/2023  13:21    <DIR>          ..\n",
      "13/01/2023  12:30    <DIR>          .ipynb_checkpoints\n",
      "13/01/2023  12:30                72 Untitled.ipynb\n",
      "13/01/2023  12:06             8,407 using-jupyter_need.ipynb\n",
      "13/01/2023  13:21            10,729 using_jupyter_(good).ipynb\n",
      "               3 File(s)         19,208 bytes\n",
      "               3 Dir(s)  225,379,979,264 bytes free\n",
      "E:\\Studies\\NUS\\Semester 2\\SP2273\\GitHub\\learning-portfolio-erics-w\\using jupyter\n"
     ]
    }
   ],
   "source": [
    "\n",
    "# !conda install numpy\n",
    "!dir\n",
    "!cd\n"
   ]
  },
  {
   "cell_type": "markdown",
   "id": "f54cee36",
   "metadata": {},
   "source": [
    "## 2 Jupyter Extensions"
   ]
  },
  {
   "cell_type": "markdown",
   "id": "075fd83b",
   "metadata": {},
   "source": [
    "### 2.1 Installing the extensions"
   ]
  },
  {
   "cell_type": "code",
   "execution_count": 3,
   "id": "6eefe8b4",
   "metadata": {},
   "outputs": [],
   "source": [
    "\n",
    "# !conda install -c conda-forge jupyter_contrib_nbextensions\n"
   ]
  },
  {
   "cell_type": "markdown",
   "id": "50ecf2e7",
   "metadata": {},
   "source": [
    "### 2.2 Enabling the extensions"
   ]
  },
  {
   "cell_type": "code",
   "execution_count": 4,
   "id": "3c71a50d",
   "metadata": {},
   "outputs": [],
   "source": [
    "\n",
    "x=10\n"
   ]
  },
  {
   "cell_type": "markdown",
   "id": "4e01b472",
   "metadata": {},
   "source": [
    "## 3 Shell Magic"
   ]
  },
  {
   "cell_type": "code",
   "execution_count": null,
   "id": "e600b8b6",
   "metadata": {},
   "outputs": [],
   "source": [
    "%lsmagic"
   ]
  },
  {
   "cell_type": "code",
   "execution_count": 8,
   "id": "6e515c86",
   "metadata": {},
   "outputs": [
    {
     "name": "stdout",
     "output_type": "stream",
     "text": [
      "14.8 ns ± 1.5 ns per loop (mean ± std. dev. of 7 runs, 100,000,000 loops each)\n"
     ]
    }
   ],
   "source": [
    "%timeit x=10"
   ]
  },
  {
   "cell_type": "code",
   "execution_count": 10,
   "id": "b16a4839",
   "metadata": {},
   "outputs": [
    {
     "name": "stdout",
     "output_type": "stream",
     "text": [
      "28 ns ± 4.08 ns per loop (mean ± std. dev. of 7 runs, 10,000,000 loops each)\n"
     ]
    }
   ],
   "source": [
    "%%timeit \n",
    "x=10\n",
    "y=10\n",
    "z=10"
   ]
  },
  {
   "cell_type": "markdown",
   "id": "83c9a8a2",
   "metadata": {},
   "source": [
    "## 4 The Kernel"
   ]
  },
  {
   "cell_type": "markdown",
   "id": "51ce5daf",
   "metadata": {},
   "source": [
    "## Exercise 1 :  A new shortcut"
   ]
  },
  {
   "cell_type": "markdown",
   "id": "44dbf4d8",
   "metadata": {},
   "source": [
    "1. Use Esc + H to see all the hotkeys\n",
    "2. Press \"Edit Hotkeys\"\n",
    "3. Find the Commands you want to add (Restart the kernel and run all cells)\n",
    "4. Press \"add hotkeys\" and press \"9,9\"\n",
    "5. Press the + button\n",
    "6. Find the command for for Clear cell output\n",
    "7. Press \"add hotkeys\" and press any number that is not used (I used \"0,9\")\n",
    "8. Press the + button\n",
    "9. Press Ok"
   ]
  }
 ],
 "metadata": {
  "kernelspec": {
   "display_name": "Python 3 (ipykernel)",
   "language": "python",
   "name": "python3"
  },
  "language_info": {
   "codemirror_mode": {
    "name": "ipython",
    "version": 3
   },
   "file_extension": ".py",
   "mimetype": "text/x-python",
   "name": "python",
   "nbconvert_exporter": "python",
   "pygments_lexer": "ipython3",
   "version": "3.10.8"
  },
  "toc": {
   "base_numbering": 1,
   "nav_menu": {},
   "number_sections": true,
   "sideBar": true,
   "skip_h1_title": false,
   "title_cell": "Table of Contents",
   "title_sidebar": "Contents",
   "toc_cell": false,
   "toc_position": {},
   "toc_section_display": true,
   "toc_window_display": false
  },
  "varInspector": {
   "cols": {
    "lenName": 16,
    "lenType": 16,
    "lenVar": 40
   },
   "kernels_config": {
    "python": {
     "delete_cmd_postfix": "",
     "delete_cmd_prefix": "del ",
     "library": "var_list.py",
     "varRefreshCmd": "print(var_dic_list())"
    },
    "r": {
     "delete_cmd_postfix": ") ",
     "delete_cmd_prefix": "rm(",
     "library": "var_list.r",
     "varRefreshCmd": "cat(var_dic_list()) "
    }
   },
   "position": {
    "height": "144.85px",
    "left": "1148.2px",
    "right": "20px",
    "top": "120px",
    "width": "350px"
   },
   "types_to_exclude": [
    "module",
    "function",
    "builtin_function_or_method",
    "instance",
    "_Feature"
   ],
   "window_display": false
  },
  "vscode": {
   "interpreter": {
    "hash": "31f2aee4e71d21fbe5cf8b01ff0e069b9275f58929596ceb00d14d90e3e16cd6"
   }
  }
 },
 "nbformat": 4,
 "nbformat_minor": 5
}
