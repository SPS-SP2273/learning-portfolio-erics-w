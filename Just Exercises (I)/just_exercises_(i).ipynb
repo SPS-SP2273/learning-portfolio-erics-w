{
 "cells": [
  {
   "cell_type": "markdown",
   "id": "123456",
   "metadata": {},
   "source": [
    "<div style=\"text-align:left;font-size:2em\"><span style=\"font-weight:bolder;font-size:1.25em\">SP2273 | Learning Portfolio</span><br><br><span style=\"font-weight:bold;color:darkred\">Just Exercises (I)</span></div>"
   ]
  },
  {
   "cell_type": "markdown",
   "id": "52f752b7",
   "metadata": {},
   "source": [
    "## Exercise 1 :  F-strings to the rescue"
   ]
  },
  {
   "cell_type": "code",
   "execution_count": 18,
   "id": "50e1a331",
   "metadata": {},
   "outputs": [
    {
     "name": "stdout",
     "output_type": "stream",
     "text": [
      "000001\n",
      "000002\n",
      "000003\n",
      "000004\n",
      "000005\n",
      "000006\n",
      "000007\n",
      "000008\n",
      "000009\n",
      "000010\n"
     ]
    }
   ],
   "source": [
    "for i in range (1, 11):\n",
    "    print(f\"{i:0>6}\")"
   ]
  },
  {
   "cell_type": "code",
   "execution_count": 26,
   "id": "4c76b8a7",
   "metadata": {},
   "outputs": [
    {
     "name": "stdout",
     "output_type": "stream",
     "text": [
      "001          +\n",
      "002         ++\n",
      "003        +++\n",
      "004       ++++\n",
      "005      +++++\n",
      "006     ++++++\n",
      "007    +++++++\n",
      "008   ++++++++\n",
      "009  +++++++++\n",
      "010 ++++++++++\n"
     ]
    }
   ],
   "source": [
    "for i in range (1, 11):\n",
    "    print(f\"{i:0>3} {i*'+':>10}\")"
   ]
  },
  {
   "cell_type": "code",
   "execution_count": 27,
   "id": "231284a6",
   "metadata": {},
   "outputs": [
    {
     "name": "stdout",
     "output_type": "stream",
     "text": [
      "001 -+++++++++\n",
      "002 --++++++++\n",
      "003 ---+++++++\n",
      "004 ----++++++\n",
      "005 -----+++++\n",
      "006 ------++++\n",
      "007 -------+++\n",
      "008 --------++\n",
      "009 ---------+\n",
      "010 ----------\n"
     ]
    }
   ],
   "source": [
    "for i in range (1, 11):\n",
    "    print(f\"{i:0>3} {i*'-':+<10}\")"
   ]
  },
  {
   "cell_type": "code",
   "execution_count": 45,
   "id": "86bae70f",
   "metadata": {},
   "outputs": [
    {
     "name": "stdout",
     "output_type": "stream",
     "text": [
      "['bruce_exploits.txt', 'bruce_enemies.txt', 'bruce_friends.txt', 'natasha_exploits.txt', 'natasha_enemies.txt', 'natasha_friends.txt', 'tony_exploits.txt', 'tony_enemies.txt', 'tony_friends.txt']\n"
     ]
    }
   ],
   "source": [
    "name = ['bruce', 'natasha', 'tony']\n",
    "data = ['_exploits.txt','_enemies.txt','_friends.txt']\n",
    "\n",
    "x = []\n",
    "for i in range(3):\n",
    "    for j in range (3):\n",
    "        x.append(name[i] + data[j])\n",
    "print(x)"
   ]
  },
  {
   "cell_type": "code",
   "execution_count": 48,
   "id": "745e6b4d",
   "metadata": {},
   "outputs": [
    {
     "name": "stdout",
     "output_type": "stream",
     "text": [
      "['data_sg_exp-01_trial-001.txt', 'data_sg_exp-01_trial-002.txt', 'data_sg_exp-01_trial-003.txt', 'data_sg_exp-01_trial-004.txt', 'data_sg_exp-01_trial-005.txt', 'data_sg_exp-01_trial-006.txt', 'data_sg_exp-01_trial-007.txt', 'data_sg_exp-01_trial-008.txt', 'data_sg_exp-01_trial-009.txt', 'data_sg_exp-01_trial-010.txt', 'data_sg_exp-01_trial-011.txt', 'data_sg_exp-01_trial-012.txt', 'data_sg_exp-01_trial-013.txt', 'data_sg_exp-01_trial-014.txt', 'data_sg_exp-01_trial-015.txt', 'data_sg_exp-01_trial-016.txt', 'data_sg_exp-01_trial-017.txt', 'data_sg_exp-01_trial-018.txt', 'data_sg_exp-01_trial-019.txt', 'data_sg_exp-01_trial-020.txt', 'data_sg_exp-01_trial-021.txt', 'data_sg_exp-01_trial-022.txt', 'data_sg_exp-01_trial-023.txt', 'data_sg_exp-01_trial-024.txt', 'data_sg_exp-01_trial-025.txt', 'data_sg_exp-01_trial-026.txt', 'data_sg_exp-01_trial-027.txt', 'data_sg_exp-01_trial-028.txt', 'data_sg_exp-01_trial-029.txt', 'data_sg_exp-01_trial-030.txt', 'data_sg_exp-01_trial-031.txt', 'data_sg_exp-01_trial-032.txt', 'data_sg_exp-01_trial-033.txt', 'data_sg_exp-01_trial-034.txt', 'data_sg_exp-01_trial-035.txt', 'data_sg_exp-01_trial-036.txt', 'data_sg_exp-01_trial-037.txt', 'data_sg_exp-01_trial-038.txt', 'data_sg_exp-01_trial-039.txt', 'data_sg_exp-01_trial-040.txt', 'data_sg_exp-01_trial-041.txt', 'data_sg_exp-01_trial-042.txt', 'data_sg_exp-01_trial-043.txt', 'data_sg_exp-01_trial-044.txt', 'data_sg_exp-01_trial-045.txt', 'data_sg_exp-01_trial-046.txt', 'data_sg_exp-01_trial-047.txt', 'data_sg_exp-01_trial-048.txt', 'data_sg_exp-01_trial-049.txt', 'data_sg_exp-01_trial-050.txt', 'data_sg_exp-02_trial-001.txt', 'data_sg_exp-02_trial-002.txt', 'data_sg_exp-02_trial-003.txt', 'data_sg_exp-02_trial-004.txt', 'data_sg_exp-02_trial-005.txt', 'data_sg_exp-02_trial-006.txt', 'data_sg_exp-02_trial-007.txt', 'data_sg_exp-02_trial-008.txt', 'data_sg_exp-02_trial-009.txt', 'data_sg_exp-02_trial-010.txt', 'data_sg_exp-02_trial-011.txt', 'data_sg_exp-02_trial-012.txt', 'data_sg_exp-02_trial-013.txt', 'data_sg_exp-02_trial-014.txt', 'data_sg_exp-02_trial-015.txt', 'data_sg_exp-02_trial-016.txt', 'data_sg_exp-02_trial-017.txt', 'data_sg_exp-02_trial-018.txt', 'data_sg_exp-02_trial-019.txt', 'data_sg_exp-02_trial-020.txt', 'data_sg_exp-02_trial-021.txt', 'data_sg_exp-02_trial-022.txt', 'data_sg_exp-02_trial-023.txt', 'data_sg_exp-02_trial-024.txt', 'data_sg_exp-02_trial-025.txt', 'data_sg_exp-02_trial-026.txt', 'data_sg_exp-02_trial-027.txt', 'data_sg_exp-02_trial-028.txt', 'data_sg_exp-02_trial-029.txt', 'data_sg_exp-02_trial-030.txt', 'data_sg_exp-02_trial-031.txt', 'data_sg_exp-02_trial-032.txt', 'data_sg_exp-02_trial-033.txt', 'data_sg_exp-02_trial-034.txt', 'data_sg_exp-02_trial-035.txt', 'data_sg_exp-02_trial-036.txt', 'data_sg_exp-02_trial-037.txt', 'data_sg_exp-02_trial-038.txt', 'data_sg_exp-02_trial-039.txt', 'data_sg_exp-02_trial-040.txt', 'data_sg_exp-02_trial-041.txt', 'data_sg_exp-02_trial-042.txt', 'data_sg_exp-02_trial-043.txt', 'data_sg_exp-02_trial-044.txt', 'data_sg_exp-02_trial-045.txt', 'data_sg_exp-02_trial-046.txt', 'data_sg_exp-02_trial-047.txt', 'data_sg_exp-02_trial-048.txt', 'data_sg_exp-02_trial-049.txt', 'data_sg_exp-02_trial-050.txt', 'data_sg_exp-03_trial-001.txt', 'data_sg_exp-03_trial-002.txt', 'data_sg_exp-03_trial-003.txt', 'data_sg_exp-03_trial-004.txt', 'data_sg_exp-03_trial-005.txt', 'data_sg_exp-03_trial-006.txt', 'data_sg_exp-03_trial-007.txt', 'data_sg_exp-03_trial-008.txt', 'data_sg_exp-03_trial-009.txt', 'data_sg_exp-03_trial-010.txt', 'data_sg_exp-03_trial-011.txt', 'data_sg_exp-03_trial-012.txt', 'data_sg_exp-03_trial-013.txt', 'data_sg_exp-03_trial-014.txt', 'data_sg_exp-03_trial-015.txt', 'data_sg_exp-03_trial-016.txt', 'data_sg_exp-03_trial-017.txt', 'data_sg_exp-03_trial-018.txt', 'data_sg_exp-03_trial-019.txt', 'data_sg_exp-03_trial-020.txt', 'data_sg_exp-03_trial-021.txt', 'data_sg_exp-03_trial-022.txt', 'data_sg_exp-03_trial-023.txt', 'data_sg_exp-03_trial-024.txt', 'data_sg_exp-03_trial-025.txt', 'data_sg_exp-03_trial-026.txt', 'data_sg_exp-03_trial-027.txt', 'data_sg_exp-03_trial-028.txt', 'data_sg_exp-03_trial-029.txt', 'data_sg_exp-03_trial-030.txt', 'data_sg_exp-03_trial-031.txt', 'data_sg_exp-03_trial-032.txt', 'data_sg_exp-03_trial-033.txt', 'data_sg_exp-03_trial-034.txt', 'data_sg_exp-03_trial-035.txt', 'data_sg_exp-03_trial-036.txt', 'data_sg_exp-03_trial-037.txt', 'data_sg_exp-03_trial-038.txt', 'data_sg_exp-03_trial-039.txt', 'data_sg_exp-03_trial-040.txt', 'data_sg_exp-03_trial-041.txt', 'data_sg_exp-03_trial-042.txt', 'data_sg_exp-03_trial-043.txt', 'data_sg_exp-03_trial-044.txt', 'data_sg_exp-03_trial-045.txt', 'data_sg_exp-03_trial-046.txt', 'data_sg_exp-03_trial-047.txt', 'data_sg_exp-03_trial-048.txt', 'data_sg_exp-03_trial-049.txt', 'data_sg_exp-03_trial-050.txt', 'data_gb_exp-01_trial-001.txt', 'data_gb_exp-01_trial-002.txt', 'data_gb_exp-01_trial-003.txt', 'data_gb_exp-01_trial-004.txt', 'data_gb_exp-01_trial-005.txt', 'data_gb_exp-01_trial-006.txt', 'data_gb_exp-01_trial-007.txt', 'data_gb_exp-01_trial-008.txt', 'data_gb_exp-01_trial-009.txt', 'data_gb_exp-01_trial-010.txt', 'data_gb_exp-01_trial-011.txt', 'data_gb_exp-01_trial-012.txt', 'data_gb_exp-01_trial-013.txt', 'data_gb_exp-01_trial-014.txt', 'data_gb_exp-01_trial-015.txt', 'data_gb_exp-01_trial-016.txt', 'data_gb_exp-01_trial-017.txt', 'data_gb_exp-01_trial-018.txt', 'data_gb_exp-01_trial-019.txt', 'data_gb_exp-01_trial-020.txt', 'data_gb_exp-01_trial-021.txt', 'data_gb_exp-01_trial-022.txt', 'data_gb_exp-01_trial-023.txt', 'data_gb_exp-01_trial-024.txt', 'data_gb_exp-01_trial-025.txt', 'data_gb_exp-01_trial-026.txt', 'data_gb_exp-01_trial-027.txt', 'data_gb_exp-01_trial-028.txt', 'data_gb_exp-01_trial-029.txt', 'data_gb_exp-01_trial-030.txt', 'data_gb_exp-01_trial-031.txt', 'data_gb_exp-01_trial-032.txt', 'data_gb_exp-01_trial-033.txt', 'data_gb_exp-01_trial-034.txt', 'data_gb_exp-01_trial-035.txt', 'data_gb_exp-01_trial-036.txt', 'data_gb_exp-01_trial-037.txt', 'data_gb_exp-01_trial-038.txt', 'data_gb_exp-01_trial-039.txt', 'data_gb_exp-01_trial-040.txt', 'data_gb_exp-01_trial-041.txt', 'data_gb_exp-01_trial-042.txt', 'data_gb_exp-01_trial-043.txt', 'data_gb_exp-01_trial-044.txt', 'data_gb_exp-01_trial-045.txt', 'data_gb_exp-01_trial-046.txt', 'data_gb_exp-01_trial-047.txt', 'data_gb_exp-01_trial-048.txt', 'data_gb_exp-01_trial-049.txt', 'data_gb_exp-01_trial-050.txt', 'data_gb_exp-02_trial-001.txt', 'data_gb_exp-02_trial-002.txt', 'data_gb_exp-02_trial-003.txt', 'data_gb_exp-02_trial-004.txt', 'data_gb_exp-02_trial-005.txt', 'data_gb_exp-02_trial-006.txt', 'data_gb_exp-02_trial-007.txt', 'data_gb_exp-02_trial-008.txt', 'data_gb_exp-02_trial-009.txt', 'data_gb_exp-02_trial-010.txt', 'data_gb_exp-02_trial-011.txt', 'data_gb_exp-02_trial-012.txt', 'data_gb_exp-02_trial-013.txt', 'data_gb_exp-02_trial-014.txt', 'data_gb_exp-02_trial-015.txt', 'data_gb_exp-02_trial-016.txt', 'data_gb_exp-02_trial-017.txt', 'data_gb_exp-02_trial-018.txt', 'data_gb_exp-02_trial-019.txt', 'data_gb_exp-02_trial-020.txt', 'data_gb_exp-02_trial-021.txt', 'data_gb_exp-02_trial-022.txt', 'data_gb_exp-02_trial-023.txt', 'data_gb_exp-02_trial-024.txt', 'data_gb_exp-02_trial-025.txt', 'data_gb_exp-02_trial-026.txt', 'data_gb_exp-02_trial-027.txt', 'data_gb_exp-02_trial-028.txt', 'data_gb_exp-02_trial-029.txt', 'data_gb_exp-02_trial-030.txt', 'data_gb_exp-02_trial-031.txt', 'data_gb_exp-02_trial-032.txt', 'data_gb_exp-02_trial-033.txt', 'data_gb_exp-02_trial-034.txt', 'data_gb_exp-02_trial-035.txt', 'data_gb_exp-02_trial-036.txt', 'data_gb_exp-02_trial-037.txt', 'data_gb_exp-02_trial-038.txt', 'data_gb_exp-02_trial-039.txt', 'data_gb_exp-02_trial-040.txt', 'data_gb_exp-02_trial-041.txt', 'data_gb_exp-02_trial-042.txt', 'data_gb_exp-02_trial-043.txt', 'data_gb_exp-02_trial-044.txt', 'data_gb_exp-02_trial-045.txt', 'data_gb_exp-02_trial-046.txt', 'data_gb_exp-02_trial-047.txt', 'data_gb_exp-02_trial-048.txt', 'data_gb_exp-02_trial-049.txt', 'data_gb_exp-02_trial-050.txt', 'data_gb_exp-03_trial-001.txt', 'data_gb_exp-03_trial-002.txt', 'data_gb_exp-03_trial-003.txt', 'data_gb_exp-03_trial-004.txt', 'data_gb_exp-03_trial-005.txt', 'data_gb_exp-03_trial-006.txt', 'data_gb_exp-03_trial-007.txt', 'data_gb_exp-03_trial-008.txt', 'data_gb_exp-03_trial-009.txt', 'data_gb_exp-03_trial-010.txt', 'data_gb_exp-03_trial-011.txt', 'data_gb_exp-03_trial-012.txt', 'data_gb_exp-03_trial-013.txt', 'data_gb_exp-03_trial-014.txt', 'data_gb_exp-03_trial-015.txt', 'data_gb_exp-03_trial-016.txt', 'data_gb_exp-03_trial-017.txt', 'data_gb_exp-03_trial-018.txt', 'data_gb_exp-03_trial-019.txt', 'data_gb_exp-03_trial-020.txt', 'data_gb_exp-03_trial-021.txt', 'data_gb_exp-03_trial-022.txt', 'data_gb_exp-03_trial-023.txt', 'data_gb_exp-03_trial-024.txt', 'data_gb_exp-03_trial-025.txt', 'data_gb_exp-03_trial-026.txt', 'data_gb_exp-03_trial-027.txt', 'data_gb_exp-03_trial-028.txt', 'data_gb_exp-03_trial-029.txt', 'data_gb_exp-03_trial-030.txt', 'data_gb_exp-03_trial-031.txt', 'data_gb_exp-03_trial-032.txt', 'data_gb_exp-03_trial-033.txt', 'data_gb_exp-03_trial-034.txt', 'data_gb_exp-03_trial-035.txt', 'data_gb_exp-03_trial-036.txt', 'data_gb_exp-03_trial-037.txt', 'data_gb_exp-03_trial-038.txt', 'data_gb_exp-03_trial-039.txt', 'data_gb_exp-03_trial-040.txt', 'data_gb_exp-03_trial-041.txt', 'data_gb_exp-03_trial-042.txt', 'data_gb_exp-03_trial-043.txt', 'data_gb_exp-03_trial-044.txt', 'data_gb_exp-03_trial-045.txt', 'data_gb_exp-03_trial-046.txt', 'data_gb_exp-03_trial-047.txt', 'data_gb_exp-03_trial-048.txt', 'data_gb_exp-03_trial-049.txt', 'data_gb_exp-03_trial-050.txt', 'data_us_exp-01_trial-001.txt', 'data_us_exp-01_trial-002.txt', 'data_us_exp-01_trial-003.txt', 'data_us_exp-01_trial-004.txt', 'data_us_exp-01_trial-005.txt', 'data_us_exp-01_trial-006.txt', 'data_us_exp-01_trial-007.txt', 'data_us_exp-01_trial-008.txt', 'data_us_exp-01_trial-009.txt', 'data_us_exp-01_trial-010.txt', 'data_us_exp-01_trial-011.txt', 'data_us_exp-01_trial-012.txt', 'data_us_exp-01_trial-013.txt', 'data_us_exp-01_trial-014.txt', 'data_us_exp-01_trial-015.txt', 'data_us_exp-01_trial-016.txt', 'data_us_exp-01_trial-017.txt', 'data_us_exp-01_trial-018.txt', 'data_us_exp-01_trial-019.txt', 'data_us_exp-01_trial-020.txt', 'data_us_exp-01_trial-021.txt', 'data_us_exp-01_trial-022.txt', 'data_us_exp-01_trial-023.txt', 'data_us_exp-01_trial-024.txt', 'data_us_exp-01_trial-025.txt', 'data_us_exp-01_trial-026.txt', 'data_us_exp-01_trial-027.txt', 'data_us_exp-01_trial-028.txt', 'data_us_exp-01_trial-029.txt', 'data_us_exp-01_trial-030.txt', 'data_us_exp-01_trial-031.txt', 'data_us_exp-01_trial-032.txt', 'data_us_exp-01_trial-033.txt', 'data_us_exp-01_trial-034.txt', 'data_us_exp-01_trial-035.txt', 'data_us_exp-01_trial-036.txt', 'data_us_exp-01_trial-037.txt', 'data_us_exp-01_trial-038.txt', 'data_us_exp-01_trial-039.txt', 'data_us_exp-01_trial-040.txt', 'data_us_exp-01_trial-041.txt', 'data_us_exp-01_trial-042.txt', 'data_us_exp-01_trial-043.txt', 'data_us_exp-01_trial-044.txt', 'data_us_exp-01_trial-045.txt', 'data_us_exp-01_trial-046.txt', 'data_us_exp-01_trial-047.txt', 'data_us_exp-01_trial-048.txt', 'data_us_exp-01_trial-049.txt', 'data_us_exp-01_trial-050.txt', 'data_us_exp-02_trial-001.txt', 'data_us_exp-02_trial-002.txt', 'data_us_exp-02_trial-003.txt', 'data_us_exp-02_trial-004.txt', 'data_us_exp-02_trial-005.txt', 'data_us_exp-02_trial-006.txt', 'data_us_exp-02_trial-007.txt', 'data_us_exp-02_trial-008.txt', 'data_us_exp-02_trial-009.txt', 'data_us_exp-02_trial-010.txt', 'data_us_exp-02_trial-011.txt', 'data_us_exp-02_trial-012.txt', 'data_us_exp-02_trial-013.txt', 'data_us_exp-02_trial-014.txt', 'data_us_exp-02_trial-015.txt', 'data_us_exp-02_trial-016.txt', 'data_us_exp-02_trial-017.txt', 'data_us_exp-02_trial-018.txt', 'data_us_exp-02_trial-019.txt', 'data_us_exp-02_trial-020.txt', 'data_us_exp-02_trial-021.txt', 'data_us_exp-02_trial-022.txt', 'data_us_exp-02_trial-023.txt', 'data_us_exp-02_trial-024.txt', 'data_us_exp-02_trial-025.txt', 'data_us_exp-02_trial-026.txt', 'data_us_exp-02_trial-027.txt', 'data_us_exp-02_trial-028.txt', 'data_us_exp-02_trial-029.txt', 'data_us_exp-02_trial-030.txt', 'data_us_exp-02_trial-031.txt', 'data_us_exp-02_trial-032.txt', 'data_us_exp-02_trial-033.txt', 'data_us_exp-02_trial-034.txt', 'data_us_exp-02_trial-035.txt', 'data_us_exp-02_trial-036.txt', 'data_us_exp-02_trial-037.txt', 'data_us_exp-02_trial-038.txt', 'data_us_exp-02_trial-039.txt', 'data_us_exp-02_trial-040.txt', 'data_us_exp-02_trial-041.txt', 'data_us_exp-02_trial-042.txt', 'data_us_exp-02_trial-043.txt', 'data_us_exp-02_trial-044.txt', 'data_us_exp-02_trial-045.txt', 'data_us_exp-02_trial-046.txt', 'data_us_exp-02_trial-047.txt', 'data_us_exp-02_trial-048.txt', 'data_us_exp-02_trial-049.txt', 'data_us_exp-02_trial-050.txt', 'data_us_exp-03_trial-001.txt', 'data_us_exp-03_trial-002.txt', 'data_us_exp-03_trial-003.txt', 'data_us_exp-03_trial-004.txt', 'data_us_exp-03_trial-005.txt', 'data_us_exp-03_trial-006.txt', 'data_us_exp-03_trial-007.txt', 'data_us_exp-03_trial-008.txt', 'data_us_exp-03_trial-009.txt', 'data_us_exp-03_trial-010.txt', 'data_us_exp-03_trial-011.txt', 'data_us_exp-03_trial-012.txt', 'data_us_exp-03_trial-013.txt', 'data_us_exp-03_trial-014.txt', 'data_us_exp-03_trial-015.txt', 'data_us_exp-03_trial-016.txt', 'data_us_exp-03_trial-017.txt', 'data_us_exp-03_trial-018.txt', 'data_us_exp-03_trial-019.txt', 'data_us_exp-03_trial-020.txt', 'data_us_exp-03_trial-021.txt', 'data_us_exp-03_trial-022.txt', 'data_us_exp-03_trial-023.txt', 'data_us_exp-03_trial-024.txt', 'data_us_exp-03_trial-025.txt', 'data_us_exp-03_trial-026.txt', 'data_us_exp-03_trial-027.txt', 'data_us_exp-03_trial-028.txt', 'data_us_exp-03_trial-029.txt', 'data_us_exp-03_trial-030.txt', 'data_us_exp-03_trial-031.txt', 'data_us_exp-03_trial-032.txt', 'data_us_exp-03_trial-033.txt', 'data_us_exp-03_trial-034.txt', 'data_us_exp-03_trial-035.txt', 'data_us_exp-03_trial-036.txt', 'data_us_exp-03_trial-037.txt', 'data_us_exp-03_trial-038.txt', 'data_us_exp-03_trial-039.txt', 'data_us_exp-03_trial-040.txt', 'data_us_exp-03_trial-041.txt', 'data_us_exp-03_trial-042.txt', 'data_us_exp-03_trial-043.txt', 'data_us_exp-03_trial-044.txt', 'data_us_exp-03_trial-045.txt', 'data_us_exp-03_trial-046.txt', 'data_us_exp-03_trial-047.txt', 'data_us_exp-03_trial-048.txt', 'data_us_exp-03_trial-049.txt', 'data_us_exp-03_trial-050.txt']\n"
     ]
    }
   ],
   "source": [
    "country = ['sg', 'gb', 'us']\n",
    "\n",
    "\n",
    "x = []\n",
    "for a in range(3):\n",
    "    for b in range(1,4):\n",
    "        for c in range(1,51):\n",
    "            x.append(f\"data_{country[a]}_exp-{b:0>2}_trial-{c:0>3}.txt\")\n",
    "print(x)"
   ]
  },
  {
   "cell_type": "markdown",
   "id": "95489eac",
   "metadata": {},
   "source": [
    "## Exercise 2 :  Tutti frutti"
   ]
  },
  {
   "cell_type": "markdown",
   "id": "6b708627",
   "metadata": {},
   "source": [
    "1. Yes"
   ]
  },
  {
   "cell_type": "code",
   "execution_count": 52,
   "id": "926ca04d",
   "metadata": {},
   "outputs": [
    {
     "name": "stdout",
     "output_type": "stream",
     "text": [
      "ae\n",
      "ba\n",
      "pe\n",
      "jt\n",
      "ph\n",
      "dn\n",
      "wn\n",
      "mo\n",
      "sy\n",
      "pt\n"
     ]
    }
   ],
   "source": [
    "fruits = [\"apple\", \"banana\", \"pineapple\", \"jackfruit\",\n",
    "        \"peach\", \"durian\", \"watermelon\", \"mango\",\n",
    "        \"strawberry\", \"passionfruit\"]\n",
    "\n",
    "for i in fruits:\n",
    "    print(i[0] + i[-1])"
   ]
  },
  {
   "cell_type": "code",
   "execution_count": 54,
   "id": "89a81405",
   "metadata": {},
   "outputs": [
    {
     "name": "stdout",
     "output_type": "stream",
     "text": [
      "['apple', 'banana', 'PINEAPPLE', 'jackfruit', 'PEACH', 'durian', 'watermelon', 'mango', 'strawberry', 'PASSIONFRUIT']\n"
     ]
    }
   ],
   "source": [
    "fruits = [\"apple\", \"banana\", \"pineapple\", \"jackfruit\",\n",
    "        \"peach\", \"durian\", \"watermelon\", \"mango\",\n",
    "        \"strawberry\", \"passionfruit\"]\n",
    "x = []\n",
    "for i in fruits:\n",
    "    if i[0] == 'p':\n",
    "        x.append(i.upper())\n",
    "    else:\n",
    "        x.append(i.lower())\n",
    "print(x)"
   ]
  },
  {
   "cell_type": "code",
   "execution_count": 60,
   "id": "82461f71",
   "metadata": {},
   "outputs": [
    {
     "name": "stdout",
     "output_type": "stream",
     "text": [
      "['apple', 'banana', 'pineapple', 'jackfruit', 'peach', 'durian', 'watermelon', 'mango', 'strawberry', 'passionfruit', 'dragon fruit', 'apricots', 'oranges']\n"
     ]
    }
   ],
   "source": [
    "fruits = [\"apple\", \"banana\", \"pineapple\", \"jackfruit\",\n",
    "        \"peach\", \"durian\", \"watermelon\", \"mango\",\n",
    "        \"strawberry\", \"passionfruit\"]\n",
    "\n",
    "for i in [\"dragon fruit\", \"apricots\", \"oranges\"]:\n",
    "    fruits.append(i)\n",
    "\n",
    "print(fruits)"
   ]
  },
  {
   "cell_type": "code",
   "execution_count": 9,
   "id": "6836194f",
   "metadata": {},
   "outputs": [
    {
     "name": "stdout",
     "output_type": "stream",
     "text": [
      "['dragon fruit', 'apricots', 'oranges', 'apple', 'banana', 'pineapple', 'jackfruit', 'peach', 'durian', 'watermelon', 'mango', 'strawberry', 'passionfruit']\n"
     ]
    }
   ],
   "source": [
    "fruits = [\"apple\", \"banana\", \"pineapple\", \"jackfruit\",\n",
    "        \"peach\", \"durian\", \"watermelon\", \"mango\",\n",
    "        \"strawberry\", \"passionfruit\"]\n",
    "\n",
    "x = [\"dragon fruit\", \"apricots\", \"oranges\"]\n",
    "for i in fruits:\n",
    "    x.append(i)\n",
    "\n",
    "print(x)"
   ]
  },
  {
   "cell_type": "code",
   "execution_count": 21,
   "id": "aeadd18d",
   "metadata": {},
   "outputs": [
    {
     "name": "stdout",
     "output_type": "stream",
     "text": [
      "['apple', 'banana', 'pineapple', 'jackfruit', 'peach', 'dragon fruit', 'apricots', 'oranges', 'durian', 'watermelon', 'mango', 'strawberry', 'passionfruit']\n"
     ]
    }
   ],
   "source": [
    "leng = len(fruits)\n",
    "a = fruits[0:int(leng/2):]\n",
    "b = fruits[int(leng/2)::]\n",
    "for i in [\"dragon fruit\", \"apricots\", \"oranges\"]:\n",
    "    a.append(i)\n",
    "\n",
    "for i in b:\n",
    "    a.append(i)\n",
    "\n",
    "print(a)\n",
    "\n",
    "\n"
   ]
  },
  {
   "cell_type": "code",
   "execution_count": 23,
   "id": "c0e23500",
   "metadata": {},
   "outputs": [
    {
     "data": {
      "text/plain": [
       "['pineapple',\n",
       " 'jackfruit',\n",
       " 'watermelon',\n",
       " 'strawberry',\n",
       " 'passionfruit',\n",
       " 'dragon fruit']"
      ]
     },
     "execution_count": 23,
     "metadata": {},
     "output_type": "execute_result"
    }
   ],
   "source": [
    "fruits = [\"apple\", \"banana\", \"pineapple\", \"jackfruit\",\n",
    "        \"peach\", \"durian\", \"watermelon\", \"mango\",\n",
    "        \"strawberry\", \"passionfruit\", \"dragon fruit\", \"apricots\", \"oranges\"]\n",
    "\n",
    "[i for i in fruits if len(i) > 8]"
   ]
  },
  {
   "cell_type": "markdown",
   "id": "4bfc4aaa",
   "metadata": {},
   "source": [
    "## Exercise 3 :  Ciao Fibonacci"
   ]
  },
  {
   "cell_type": "code",
   "execution_count": 27,
   "id": "799e0805",
   "metadata": {},
   "outputs": [
    {
     "name": "stdout",
     "output_type": "stream",
     "text": [
      "[0, 1, 1, 2, 3, 5, 8, 13, 21, 34, 55, 89, 144, 233, 377]\n"
     ]
    }
   ],
   "source": [
    "fibonnaci=[0, 1]\n",
    "for i in range(13):\n",
    "    x = fibonnaci[-1] + fibonnaci[-2]\n",
    "    fibonnaci.append(x)\n",
    "print(fibonnaci)"
   ]
  },
  {
   "cell_type": "markdown",
   "id": "5a78ac0f",
   "metadata": {},
   "source": [
    "## Exercise 4 :  A function for Fibonacci"
   ]
  },
  {
   "cell_type": "code",
   "execution_count": 48,
   "id": "0c6d3751",
   "metadata": {},
   "outputs": [],
   "source": [
    "def fibonacci(n):\n",
    "    assert n >= 0, \"n cannot be negative!\"\n",
    "    assert int(n) == n, \"n must be an integer!\"\n",
    "    a = 0\n",
    "    b = 1\n",
    "    c = []\n",
    "    for i in range(n):\n",
    "        c.append(a)\n",
    "        a, b = b, a+b\n",
    "    return c"
   ]
  },
  {
   "cell_type": "markdown",
   "id": "a776f4b3",
   "metadata": {},
   "source": [
    "## Exercise 5 :  max_info() without NumPy"
   ]
  },
  {
   "cell_type": "code",
   "execution_count": 52,
   "id": "2ebbab33",
   "metadata": {},
   "outputs": [
    {
     "name": "stdout",
     "output_type": "stream",
     "text": [
      "83 at 2\n"
     ]
    }
   ],
   "source": [
    "numbers = [40, 27, 83, 44, 74, 51, 76, 77, 10, 49]\n",
    "x = numbers[0]\n",
    "y = 0\n",
    "z = 0\n",
    "for i in numbers:\n",
    "    if x < i:\n",
    "        x = i\n",
    "        z = y\n",
    "    y += 1   \n",
    "print(f\"{x} at {z}\")"
   ]
  },
  {
   "cell_type": "markdown",
   "id": "4af1d08b",
   "metadata": {},
   "source": [
    "## Exercise 6 :  Take count"
   ]
  },
  {
   "cell_type": "code",
   "execution_count": 61,
   "id": "910703f8",
   "metadata": {},
   "outputs": [
    {
     "name": "stdout",
     "output_type": "stream",
     "text": [
      "['A', 'G', 'G', 'C', 'A', 'A', 'G', 'A', 'A', 'G', 'C', 'T', 'A', 'G', 'A', 'A', 'T', 'T', 'C', 'T', 'G', 'G', 'C', 'C', 'T', 'G', 'A', 'G', 'T', 'A', 'T', 'C', 'T', 'C', 'A', 'G', 'T', 'A', 'C', 'A', 'G', 'G', 'C', 'G', 'C', 'A', 'G', 'T', 'C', 'G', 'A', 'A', 'T', 'C', 'T', 'T', 'C', 'C', 'G', 'G', 'A', 'A', 'T', 'C', 'A', 'C', 'A', 'T', 'T', 'G', 'C', 'T', 'C', 'G', 'C', 'G', 'C', 'T', 'T', 'A', 'A', 'A', 'C', 'C', 'C', 'G', 'C', 'T', 'C', 'T', 'A', 'A', 'A', 'C', 'C', 'T', 'T', 'T', 'G', 'A', 'G', 'T', 'A', 'A', 'T', 'T', 'C', 'G', 'A', 'C', 'G', 'A', 'C', 'A', 'T', 'T', 'G', 'G', 'G', 'T', 'T', 'C', 'C', 'C', 'T', 'C', 'C', 'G', 'A', 'C', 'G', 'C', 'T', 'G', 'T', 'C', 'T', 'G', 'A', 'C', 'A', 'A', 'C', 'T', 'C', 'T', 'T', 'T', 'A', 'A', 'G', 'A', 'T', 'C', 'C', 'T', 'T', 'G', 'G', 'C', 'A', 'C', 'G', 'A', 'T', 'G', 'T', 'C', 'G', 'A', 'T', 'A', 'G', 'A', 'C', 'A', 'T', 'T', 'G', 'T', 'C', 'C', 'C', 'T', 'G', 'A', 'T', 'G', 'A', 'C', 'G', 'C', 'C', 'T', 'C', 'A', 'C', 'A', 'A', 'G', 'G', 'T', 'A', 'A', 'C', 'C', 'T', 'G', 'G', 'C', 'T', 'C', 'T', 'A', 'G', 'T', 'A', 'G', 'G', 'G', 'T', 'G', 'G', 'T', 'C', 'T', 'T', 'T', 'G', 'C', 'T', 'G', 'C', 'G', 'G', 'A', 'A', 'C', 'T', 'T', 'A', 'C', 'C', 'A', 'C', 'C', 'T', 'G', 'G', 'T', 'G', 'G', 'A', 'T', 'C', 'C', 'A', 'A', 'G', 'C', 'A', 'C', 'C', 'A', 'G', 'A', 'G', 'G', 'A', 'G', 'T', 'T', 'C', 'G', 'A', 'A', 'G', 'A', 'G', 'G', 'C', 'T', 'G', 'G', 'G', 'G', 'T', 'A', 'C', 'C', 'C', 'C', 'C', 'T', 'A', 'T', 'T', 'T', 'A', 'G', 'G', 'A', 'A', 'G', 'G', 'G', 'C', 'G', 'A', 'G', 'A', 'C', 'T', 'A', 'C', 'G', 'G', 'T', 'C', 'A', 'C', 'A', 'A', 'A', 'T', 'T', 'C', 'C', 'A', 'A', 'A', 'T', 'G', 'G', 'C', 'T', 'T', 'C', 'C', 'C', 'T', 'C', 'G', 'A', 'T', 'T', 'C', 'A', 'T', 'G', 'A', 'C', 'G', 'C', 'C', 'A', 'G', 'A', 'A', 'T', 'G', 'C', 'C', 'T', 'G', 'G', 'C', 'T', 'G', 'T', 'G', 'C', 'C', 'A', 'A', 'T', 'T', 'T', 'G', 'T', 'C', 'G', 'C', 'C', 'T', 'T', 'G', 'C', 'G', 'T', 'C', 'G', 'T', 'T', 'C', 'T', 'G', 'T', 'C', 'A', 'A', 'T', 'C', 'T', 'T', 'T', 'A', 'C', 'T', 'C', 'G', 'T', 'G', 'T', 'C', 'G', 'T', 'G', 'T', 'T', 'G', 'T', 'G', 'A', 'T', 'A', 'A', 'A', 'T', 'G', 'A', 'C', 'A', 'A', 'A', 'C', 'C', 'C', 'T', 'G', 'C', 'A', 'C', 'A', 'A', 'C', 'G', 'T', 'A', 'G', 'G', 'G', 'C', 'T', 'C', 'A', 'C', 'A', 'C', 'A', 'A', 'G', 'G', 'G', 'A', 'A', 'T', 'C', 'T', 'A', 'G', 'A', 'G', 'T', 'A', 'T', 'C', 'C', 'G', 'A', 'T', 'A', 'C', 'A', 'G', 'G', 'G', 'A', 'G', 'C', 'T', 'T', 'T', 'A', 'G', 'C', 'T', 'T', 'C', 'C', 'G', 'T', 'C', 'C', 'C', 'T', 'T', 'A', 'T', 'A', 'G', 'C', 'C', 'T', 'G', 'C', 'C', 'A', 'T', 'A', 'T', 'T', 'C', 'T', 'T', 'G', 'C', 'G', 'G', 'T', 'A', 'G', 'C', 'A', 'C', 'G', 'A', 'G', 'C', 'C', 'T', 'C', 'A', 'G', 'A', 'T', 'C', 'T', 'T', 'C', 'T', 'C', 'A', 'C', 'T', 'C', 'C', 'G', 'G', 'A', 'A', 'A', 'T', 'G', 'G', 'G', 'A', 'G', 'C', 'T', 'T', 'C', 'G', 'A', 'C', 'G', 'G', 'T', 'C', 'A', 'A', 'G', 'G', 'G', 'C', 'T', 'A', 'A', 'G', 'A', 'C', 'G', 'T', 'C', 'T', 'T', 'C', 'G', 'G', 'G', 'A', 'G', 'A', 'A', 'A', 'T', 'A', 'C', 'C', 'T', 'A', 'G', 'G', 'C', 'G', 'A', 'T', 'G', 'A', 'C', 'C', 'C', 'T', 'G', 'A', 'G', 'T', 'G', 'G', 'T', 'T', 'T', 'T', 'C', 'C', 'G', 'C', 'G', 'T', 'A', 'T', 'A', 'A', 'C', 'T', 'C', 'A', 'T', 'C', 'C', 'T', 'G', 'G', 'T', 'T', 'G', 'C', 'A', 'A', 'A', 'T', 'G', 'A', 'T', 'T', 'A', 'C', 'C', 'G', 'T', 'T', 'A', 'T', 'A', 'G', 'C', 'C', 'T', 'G', 'G', 'G', 'G', 'A', 'T', 'A', 'T', 'G', 'C', 'C', 'T', 'C', 'A', 'A', 'T', 'T', 'C', 'C', 'G', 'A', 'A', 'C', 'C', 'C', 'A', 'G', 'G', 'A', 'G', 'C', 'A', 'T', 'C', 'A', 'C', 'T', 'C', 'G', 'A', 'G', 'C', 'A', 'A', 'T', 'A', 'G', 'C', 'G', 'G', 'T', 'A', 'A', 'A', 'G', 'G', 'A', 'G', 'G', 'C', 'T', 'A', 'T', 'T', 'A', 'G', 'C', 'A', 'A', 'A', 'A', 'T', 'T', 'G', 'T', 'C', 'A', 'C', 'G', 'A', 'T', 'A', 'A', 'G', 'C', 'G', 'C', 'C', 'G', 'T', 'T', 'G', 'T', 'A', 'G', 'T', 'G', 'A', 'A', 'A', 'T', 'T', 'A', 'A', 'G', 'A', 'T', 'A', 'C', 'A', 'T', 'A', 'C', 'A', 'T', 'C', 'G', 'T', 'T', 'T', 'A', 'G', 'C', 'A', 'C', 'A', 'T', 'C', 'A', 'C', 'T', 'C', 'T', 'C', 'A', 'C', 'G', 'G', 'C', 'G', 'T', 'C', 'T', 'A', 'G', 'A', 'A', 'G', 'C', 'T', 'G', 'A', 'T', 'C', 'T', 'T', 'C', 'A', 'T', 'A', 'T', 'G', 'C', 'T', 'G', 'A', 'C', 'T', 'C', 'A', 'G', 'A', 'A', 'G', 'G', 'C', 'T', 'C', 'G', 'G', 'A', 'T', 'A', 'A', 'T', 'A', 'G', 'A', 'G', 'G', 'A', 'C', 'G', 'A', 'A', 'G', 'G', 'T', 'A', 'G', 'T', 'T', 'T', 'A', 'C', 'T', 'C', 'A', 'T', 'C', 'G', 'C', 'T', 'G', 'C', 'C', 'C', 'C', 'G', 'A', 'C', 'T', 'A', 'T', 'T', 'A', 'C', 'G', 'T', 'G', 'T', 'G', 'C', 'A', 'T', 'G', 'A', 'T', 'A', 'A', 'A', 'G', 'T', 'C', 'T', 'G', 'A', 'C', 'C', 'C', 'T', 'G', 'A', 'C', 'G', 'T', 'T', 'C', 'C', 'C', 'A', 'A', 'G', 'C', 'C', 'G', 'A', 'G', 'G', 'C', 'A', 'G', 'A', 'G', 'G', 'G', 'G', 'T', 'T', 'T', 'T', 'A', 'C', 'G', 'C', 'T', 'G', 'A', 'A', 'T', 'G', 'T', 'C', 'C', 'G', 'C', 'T', 'C', 'T', 'C', 'T', 'G', 'T', 'C', 'G', 'G', 'A', 'T', 'G', 'A', 'T', 'T', 'T', 'C', 'G', 'G', 'A', 'A', 'G', 'C', 'T', 'G']\n"
     ]
    }
   ],
   "source": [
    "x = 'AGGCAAGAAGCTAGAATTCTGGCCTGAGTATCTCAGTACAGGCGCAGTCGAATCTTCCGGAATCACATTGCTCGCGCTTAAACCCGCTCTAAACCTTTGAGTAATTCGACGACATTGGGTTCCCTCCGACGCTGTCTGACAACTCTTTAAGATCCTTGGCACGATGTCGATAGACATTGTCCCTGATGACGCCTCACAAGGTAACCTGGCTCTAGTAGGGTGGTCTTTGCTGCGGAACTTACCACCTGGTGGATCCAAGCACCAGAGGAGTTCGAAGAGGCTGGGGTACCCCCTATTTAGGAAGGGCGAGACTACGGTCACAAATTCCAAATGGCTTCCCTCGATTCATGACGCCAGAATGCCTGGCTGTGCCAATTTGTCGCCTTGCGTCGTTCTGTCAATCTTTACTCGTGTCGTGTTGTGATAAATGACAAACCCTGCACAACGTAGGGCTCACACAAGGGAATCTAGAGTATCCGATACAGGGAGCTTTAGCTTCCGTCCCTTATAGCCTGCCATATTCTTGCGGTAGCACGAGCCTCAGATCTTCTCACTCCGGAAATGGGAGCTTCGACGGTCAAGGGCTAAGACGTCTTCGGGAGAAATACCTAGGCGATGACCCTGAGTGGTTTTCCGCGTATAACTCATCCTGGTTGCAAATGATTACCGTTATAGCCTGGGGATATGCCTCAATTCCGAACCCAGGAGCATCACTCGAGCAATAGCGGTAAAGGAGGCTATTAGCAAAATTGTCACGATAAGCGCCGTTGTAGTGAAATTAAGATACATACATCGTTTAGCACATCACTCTCACGGCGTCTAGAAGCTGATCTTCATATGCTGACTCAGAAGGCTCGGATAATAGAGGACGAAGGTAGTTTACTCATCGCTGCCCCGACTATTACGTGTGCATGATAAAGTCTGACCCTGACGTTCCCAAGCCGAGGCAGAGGGGTTTTACGCTGAATGTCCGCTCTCTGTCGGATGATTTCGGAAGCTG'\n",
    "y = []\n",
    "for i in range(len(x)):\n",
    "    z = x[i:i+1]\n",
    "    y.append(z)\n",
    "print(y)"
   ]
  },
  {
   "cell_type": "code",
   "execution_count": 62,
   "id": "7a865796",
   "metadata": {},
   "outputs": [
    {
     "name": "stdout",
     "output_type": "stream",
     "text": [
      "254\n"
     ]
    }
   ],
   "source": [
    "p = 0\n",
    "for i in y:\n",
    "    if i == 'T':\n",
    "        p += 1\n",
    "    continue"
   ]
  },
  {
   "cell_type": "code",
   "execution_count": 70,
   "id": "d1b7e4e9",
   "metadata": {},
   "outputs": [
    {
     "data": {
      "text/plain": [
       "254"
      ]
     },
     "execution_count": 70,
     "metadata": {},
     "output_type": "execute_result"
    }
   ],
   "source": [
    "q = [i for i in y if i == 'T']\n",
    "len(q)"
   ]
  },
  {
   "cell_type": "code",
   "execution_count": 86,
   "id": "2c9c6097",
   "metadata": {},
   "outputs": [],
   "source": [
    "a = 0\n",
    "t = 0\n",
    "c = 0\n",
    "g = 0\n",
    "for i in y:\n",
    "    if i == 'A':\n",
    "        a += 1\n",
    "        continue\n",
    "    elif i == 'T':\n",
    "        t += 1\n",
    "        continue\n",
    "    elif i == 'C':\n",
    "        c += 1\n",
    "        continue\n",
    "    elif i == 'G':\n",
    "        g += 1\n",
    "        continue\n",
    "    else:\n",
    "        print('Error')\n",
    "dict = {'A' : a, 'T' : t, 'C' : c, 'G' : g}"
   ]
  },
  {
   "cell_type": "code",
   "execution_count": 68,
   "id": "d84ce5cf",
   "metadata": {},
   "outputs": [
    {
     "data": {
      "text/plain": [
       "249"
      ]
     },
     "execution_count": 68,
     "metadata": {},
     "output_type": "execute_result"
    }
   ],
   "source": [
    "g = [i for i in y if i == 'G']\n",
    "len(g)"
   ]
  },
  {
   "cell_type": "code",
   "execution_count": 69,
   "id": "6b9096a3",
   "metadata": {},
   "outputs": [
    {
     "data": {
      "text/plain": [
       "250"
      ]
     },
     "execution_count": 69,
     "metadata": {},
     "output_type": "execute_result"
    }
   ],
   "source": [
    "c = [i for i in y if i == 'C']\n",
    "len(c)"
   ]
  },
  {
   "cell_type": "code",
   "execution_count": 87,
   "id": "53576db8",
   "metadata": {},
   "outputs": [
    {
     "data": {
      "text/plain": [
       "(array(['A', 'C', 'G', 'T'], dtype='<U1'),\n",
       " array([247, 250, 249, 254], dtype=int64))"
      ]
     },
     "execution_count": 87,
     "metadata": {},
     "output_type": "execute_result"
    }
   ],
   "source": [
    "np.unique(y, return_counts = True)"
   ]
  },
  {
   "cell_type": "code",
   "execution_count": 92,
   "id": "4ddf0890",
   "metadata": {},
   "outputs": [
    {
     "name": "stdout",
     "output_type": "stream",
     "text": [
      "['AGGC', 'AAGA', 'AGCT', 'AGAA', 'TTCT', 'GGCC', 'TGAG', 'TATC', 'TCAG', 'TACA', 'GGCG', 'CAGT', 'CGAA', 'TCTT', 'CCGG', 'AATC', 'ACAT', 'TGCT', 'CGCG', 'CTTA', 'AACC', 'CGCT', 'CTAA', 'ACCT', 'TTGA', 'GTAA', 'TTCG', 'ACGA', 'CATT', 'GGGT', 'TCCC', 'TCCG', 'ACGC', 'TGTC', 'TGAC', 'AACT', 'CTTT', 'AAGA', 'TCCT', 'TGGC', 'ACGA', 'TGTC', 'GATA', 'GACA', 'TTGT', 'CCCT', 'GATG', 'ACGC', 'CTCA', 'CAAG', 'GTAA', 'CCTG', 'GCTC', 'TAGT', 'AGGG', 'TGGT', 'CTTT', 'GCTG', 'CGGA', 'ACTT', 'ACCA', 'CCTG', 'GTGG', 'ATCC', 'AAGC', 'ACCA', 'GAGG', 'AGTT', 'CGAA', 'GAGG', 'CTGG', 'GGTA', 'CCCC', 'CTAT', 'TTAG', 'GAAG', 'GGCG', 'AGAC', 'TACG', 'GTCA', 'CAAA', 'TTCC', 'AAAT', 'GGCT', 'TCCC', 'TCGA', 'TTCA', 'TGAC', 'GCCA', 'GAAT', 'GCCT', 'GGCT', 'GTGC', 'CAAT', 'TTGT', 'CGCC', 'TTGC', 'GTCG', 'TTCT', 'GTCA', 'ATCT', 'TTAC', 'TCGT', 'GTCG', 'TGTT', 'GTGA', 'TAAA', 'TGAC', 'AAAC', 'CCTG', 'CACA', 'ACGT', 'AGGG', 'CTCA', 'CACA', 'AGGG', 'AATC', 'TAGA', 'GTAT', 'CCGA', 'TACA', 'GGGA', 'GCTT', 'TAGC', 'TTCC', 'GTCC', 'CTTA', 'TAGC', 'CTGC', 'CATA', 'TTCT', 'TGCG', 'GTAG', 'CACG', 'AGCC', 'TCAG', 'ATCT', 'TCTC', 'ACTC', 'CGGA', 'AATG', 'GGAG', 'CTTC', 'GACG', 'GTCA', 'AGGG', 'CTAA', 'GACG', 'TCTT', 'CGGG', 'AGAA', 'ATAC', 'CTAG', 'GCGA', 'TGAC', 'CCTG', 'AGTG', 'GTTT', 'TCCG', 'CGTA', 'TAAC', 'TCAT', 'CCTG', 'GTTG', 'CAAA', 'TGAT', 'TACC', 'GTTA', 'TAGC', 'CTGG', 'GGAT', 'ATGC', 'CTCA', 'ATTC', 'CGAA', 'CCCA', 'GGAG', 'CATC', 'ACTC', 'GAGC', 'AATA', 'GCGG', 'TAAA', 'GGAG', 'GCTA', 'TTAG', 'CAAA', 'ATTG', 'TCAC', 'GATA', 'AGCG', 'CCGT', 'TGTA', 'GTGA', 'AATT', 'AAGA', 'TACA', 'TACA', 'TCGT', 'TTAG', 'CACA', 'TCAC', 'TCTC', 'ACGG', 'CGTC', 'TAGA', 'AGCT', 'GATC', 'TTCA', 'TATG', 'CTGA', 'CTCA', 'GAAG', 'GCTC', 'GGAT', 'AATA', 'GAGG', 'ACGA', 'AGGT', 'AGTT', 'TACT', 'CATC', 'GCTG', 'CCCC', 'GACT', 'ATTA', 'CGTG', 'TGCA', 'TGAT', 'AAAG', 'TCTG', 'ACCC', 'TGAC', 'GTTC', 'CCAA', 'GCCG', 'AGGC', 'AGAG', 'GGGT', 'TTTA', 'CGCT', 'GAAT', 'GTCC', 'GCTC', 'TCTG', 'TCGG', 'ATGA', 'TTTC', 'GGAA', 'GCTG']\n"
     ]
    }
   ],
   "source": [
    "x = 'AGGCAAGAAGCTAGAATTCTGGCCTGAGTATCTCAGTACAGGCGCAGTCGAATCTTCCGGAATCACATTGCTCGCGCTTAAACCCGCTCTAAACCTTTGAGTAATTCGACGACATTGGGTTCCCTCCGACGCTGTCTGACAACTCTTTAAGATCCTTGGCACGATGTCGATAGACATTGTCCCTGATGACGCCTCACAAGGTAACCTGGCTCTAGTAGGGTGGTCTTTGCTGCGGAACTTACCACCTGGTGGATCCAAGCACCAGAGGAGTTCGAAGAGGCTGGGGTACCCCCTATTTAGGAAGGGCGAGACTACGGTCACAAATTCCAAATGGCTTCCCTCGATTCATGACGCCAGAATGCCTGGCTGTGCCAATTTGTCGCCTTGCGTCGTTCTGTCAATCTTTACTCGTGTCGTGTTGTGATAAATGACAAACCCTGCACAACGTAGGGCTCACACAAGGGAATCTAGAGTATCCGATACAGGGAGCTTTAGCTTCCGTCCCTTATAGCCTGCCATATTCTTGCGGTAGCACGAGCCTCAGATCTTCTCACTCCGGAAATGGGAGCTTCGACGGTCAAGGGCTAAGACGTCTTCGGGAGAAATACCTAGGCGATGACCCTGAGTGGTTTTCCGCGTATAACTCATCCTGGTTGCAAATGATTACCGTTATAGCCTGGGGATATGCCTCAATTCCGAACCCAGGAGCATCACTCGAGCAATAGCGGTAAAGGAGGCTATTAGCAAAATTGTCACGATAAGCGCCGTTGTAGTGAAATTAAGATACATACATCGTTTAGCACATCACTCTCACGGCGTCTAGAAGCTGATCTTCATATGCTGACTCAGAAGGCTCGGATAATAGAGGACGAAGGTAGTTTACTCATCGCTGCCCCGACTATTACGTGTGCATGATAAAGTCTGACCCTGACGTTCCCAAGCCGAGGCAGAGGGGTTTTACGCTGAATGTCCGCTCTCTGTCGGATGATTTCGGAAGCTG'\n",
    "y = []\n",
    "for i in range(0,len(x),4):\n",
    "    z = x[i:i+4]\n",
    "    y.append(z)\n",
    "print(y)"
   ]
  }
 ],
 "metadata": {
  "kernelspec": {
   "display_name": "Python 3 (ipykernel)",
   "language": "python",
   "name": "python3"
  },
  "language_info": {
   "codemirror_mode": {
    "name": "ipython",
    "version": 3
   },
   "file_extension": ".py",
   "mimetype": "text/x-python",
   "name": "python",
   "nbconvert_exporter": "python",
   "pygments_lexer": "ipython3",
   "version": "3.10.8"
  },
  "toc": {
   "base_numbering": 1,
   "nav_menu": {},
   "number_sections": true,
   "sideBar": true,
   "skip_h1_title": false,
   "title_cell": "Table of Contents",
   "title_sidebar": "Contents",
   "toc_cell": false,
   "toc_position": {},
   "toc_section_display": true,
   "toc_window_display": false
  },
  "varInspector": {
   "cols": {
    "lenName": 16,
    "lenType": 16,
    "lenVar": 40
   },
   "kernels_config": {
    "python": {
     "delete_cmd_postfix": "",
     "delete_cmd_prefix": "del ",
     "library": "var_list.py",
     "varRefreshCmd": "print(var_dic_list())"
    },
    "r": {
     "delete_cmd_postfix": ") ",
     "delete_cmd_prefix": "rm(",
     "library": "var_list.r",
     "varRefreshCmd": "cat(var_dic_list()) "
    }
   },
   "types_to_exclude": [
    "module",
    "function",
    "builtin_function_or_method",
    "instance",
    "_Feature"
   ],
   "window_display": false
  },
  "vscode": {
   "interpreter": {
    "hash": "31f2aee4e71d21fbe5cf8b01ff0e069b9275f58929596ceb00d14d90e3e16cd6"
   }
  }
 },
 "nbformat": 4,
 "nbformat_minor": 5
}
