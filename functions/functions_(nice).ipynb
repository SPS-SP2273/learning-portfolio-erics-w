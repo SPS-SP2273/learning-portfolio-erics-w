{
 "cells": [
  {
   "cell_type": "markdown",
   "id": "123456",
   "metadata": {},
   "source": [
    "<div style=\"text-align:left;font-size:2em\"><span style=\"font-weight:bolder;font-size:1.25em\">SP2273 | Learning Portfolio</span><br><br><span style=\"font-weight:bold;color:darkred\">Functions (Nice)</span></div>"
   ]
  },
  {
   "cell_type": "markdown",
   "id": "a01e4973",
   "metadata": {},
   "source": [
    "## 1 Other things you can do with functions"
   ]
  },
  {
   "cell_type": "markdown",
   "id": "9fab3140",
   "metadata": {},
   "source": [
    "### 1.1 Modularise and reuse"
   ]
  },
  {
   "cell_type": "markdown",
   "id": "5958a261",
   "metadata": {},
   "source": [
    "It is more efficient to reuse your code (dah!). Using functions makes this very easy. However, you can go a step further and reuse functions between projects by placing them in a separate file and importing them like you do the standard packages like NumPy. i.e. whenever you find yourself using a set of functions often, you should consider saving them as a module that you can import."
   ]
  },
  {
   "cell_type": "markdown",
   "id": "90f585fd",
   "metadata": {},
   "source": [
    "## 2 *args & **kwarg"
   ]
  },
  {
   "cell_type": "markdown",
   "id": "fe0441b1",
   "metadata": {},
   "source": [
    "### 2.1 *args"
   ]
  },
  {
   "cell_type": "code",
   "execution_count": 1,
   "id": "554ebc2d",
   "metadata": {},
   "outputs": [
    {
     "data": {
      "text/plain": [
       "2"
      ]
     },
     "execution_count": 1,
     "metadata": {},
     "output_type": "execute_result"
    }
   ],
   "source": [
    "def multiply(x, y):\n",
    "    return x * y\n",
    "\n",
    "numbers = [1, 2]\n",
    "multiply(*numbers)"
   ]
  },
  {
   "cell_type": "code",
   "execution_count": 5,
   "id": "59fcade7",
   "metadata": {},
   "outputs": [
    {
     "ename": "TypeError",
     "evalue": "multiply() missing 1 required positional argument: 'y'",
     "output_type": "error",
     "traceback": [
      "\u001b[1;31m---------------------------------------------------------------------------\u001b[0m",
      "\u001b[1;31mTypeError\u001b[0m                                 Traceback (most recent call last)",
      "Cell \u001b[1;32mIn[5], line 5\u001b[0m\n\u001b[0;32m      2\u001b[0m     \u001b[38;5;28;01mreturn\u001b[39;00m x \u001b[38;5;241m*\u001b[39m y\n\u001b[0;32m      4\u001b[0m numbers \u001b[38;5;241m=\u001b[39m [\u001b[38;5;241m1\u001b[39m, \u001b[38;5;241m2\u001b[39m]\n\u001b[1;32m----> 5\u001b[0m \u001b[43mmultiply\u001b[49m\u001b[43m(\u001b[49m\u001b[43mnumbers\u001b[49m\u001b[43m)\u001b[49m\n",
      "\u001b[1;31mTypeError\u001b[0m: multiply() missing 1 required positional argument: 'y'"
     ]
    }
   ],
   "source": [
    "def multiply(x, y):\n",
    "    return x * y\n",
    "\n",
    "numbers = [1, 2]\n",
    "multiply(numbers)"
   ]
  },
  {
   "cell_type": "code",
   "execution_count": 2,
   "id": "44359b31",
   "metadata": {},
   "outputs": [
    {
     "data": {
      "text/plain": [
       "6"
      ]
     },
     "execution_count": 2,
     "metadata": {},
     "output_type": "execute_result"
    }
   ],
   "source": [
    "def multiply(*args):\n",
    "    result = 1\n",
    "    for number in args:\n",
    "        result *= number\n",
    "\n",
    "    return result\n",
    "\n",
    "numbers = [1, 2, 3]\n",
    "multiply(*numbers)"
   ]
  },
  {
   "cell_type": "code",
   "execution_count": 3,
   "id": "d586bf46",
   "metadata": {},
   "outputs": [
    {
     "data": {
      "text/plain": [
       "120"
      ]
     },
     "execution_count": 3,
     "metadata": {},
     "output_type": "execute_result"
    }
   ],
   "source": [
    "multiply(1, 2, 3, 4, 5)"
   ]
  },
  {
   "cell_type": "markdown",
   "id": "679afaa1",
   "metadata": {},
   "source": [
    "### 2.2 **kwargs"
   ]
  },
  {
   "cell_type": "code",
   "execution_count": 4,
   "id": "54b67e8a",
   "metadata": {},
   "outputs": [
    {
     "data": {
      "text/plain": [
       "6"
      ]
     },
     "execution_count": 4,
     "metadata": {},
     "output_type": "execute_result"
    }
   ],
   "source": [
    "def multiply(x, y, z):\n",
    "    return x * y * z\n",
    "\n",
    "# Let's use the function\n",
    "numbers = {'x': 1, 'y': 2, 'z': 3}\n",
    "multiply(**numbers)"
   ]
  },
  {
   "cell_type": "code",
   "execution_count": 6,
   "id": "b7a5ff77",
   "metadata": {},
   "outputs": [
    {
     "ename": "TypeError",
     "evalue": "can't multiply sequence by non-int of type 'str'",
     "output_type": "error",
     "traceback": [
      "\u001b[1;31m---------------------------------------------------------------------------\u001b[0m",
      "\u001b[1;31mTypeError\u001b[0m                                 Traceback (most recent call last)",
      "Cell \u001b[1;32mIn[6], line 6\u001b[0m\n\u001b[0;32m      4\u001b[0m \u001b[38;5;66;03m# Let's use the function\u001b[39;00m\n\u001b[0;32m      5\u001b[0m numbers \u001b[38;5;241m=\u001b[39m {\u001b[38;5;124m'\u001b[39m\u001b[38;5;124mx\u001b[39m\u001b[38;5;124m'\u001b[39m: \u001b[38;5;241m1\u001b[39m, \u001b[38;5;124m'\u001b[39m\u001b[38;5;124my\u001b[39m\u001b[38;5;124m'\u001b[39m: \u001b[38;5;241m2\u001b[39m, \u001b[38;5;124m'\u001b[39m\u001b[38;5;124mz\u001b[39m\u001b[38;5;124m'\u001b[39m: \u001b[38;5;241m3\u001b[39m}\n\u001b[1;32m----> 6\u001b[0m \u001b[43mmultiply\u001b[49m\u001b[43m(\u001b[49m\u001b[38;5;241;43m*\u001b[39;49m\u001b[43mnumbers\u001b[49m\u001b[43m)\u001b[49m\n",
      "Cell \u001b[1;32mIn[6], line 2\u001b[0m, in \u001b[0;36mmultiply\u001b[1;34m(x, y, z)\u001b[0m\n\u001b[0;32m      1\u001b[0m \u001b[38;5;28;01mdef\u001b[39;00m \u001b[38;5;21mmultiply\u001b[39m(x, y, z):\n\u001b[1;32m----> 2\u001b[0m     \u001b[38;5;28;01mreturn\u001b[39;00m \u001b[43mx\u001b[49m\u001b[43m \u001b[49m\u001b[38;5;241;43m*\u001b[39;49m\u001b[43m \u001b[49m\u001b[43my\u001b[49m \u001b[38;5;241m*\u001b[39m z\n",
      "\u001b[1;31mTypeError\u001b[0m: can't multiply sequence by non-int of type 'str'"
     ]
    }
   ],
   "source": [
    "def multiply(x, y, z):\n",
    "    return x * y * z\n",
    "\n",
    "# Let's use the function\n",
    "numbers = {'x': 1, 'y': 2, 'z': 3}\n",
    "multiply(*numbers)"
   ]
  },
  {
   "cell_type": "code",
   "execution_count": 18,
   "id": "e42b8879",
   "metadata": {},
   "outputs": [
    {
     "data": {
      "text/plain": [
       "6"
      ]
     },
     "execution_count": 18,
     "metadata": {},
     "output_type": "execute_result"
    }
   ],
   "source": [
    "def multiply(x, y, z):\n",
    "    return x * y * z\n",
    "\n",
    "# Let's use the function\n",
    "numbers = {'y': 2, 'z': 3}\n",
    "multiply(1, **numbers)"
   ]
  },
  {
   "cell_type": "code",
   "execution_count": 15,
   "id": "f017f76c",
   "metadata": {},
   "outputs": [
    {
     "data": {
      "text/plain": [
       "24"
      ]
     },
     "execution_count": 15,
     "metadata": {},
     "output_type": "execute_result"
    }
   ],
   "source": [
    "def multiply(x, y, z):\n",
    "    return x * y * z\n",
    "\n",
    "# Let's use the function\n",
    "numbers = {'z': 3}\n",
    "multiply(2, 4, **numbers)"
   ]
  },
  {
   "cell_type": "code",
   "execution_count": 16,
   "id": "defc7a2f",
   "metadata": {},
   "outputs": [
    {
     "data": {
      "text/plain": [
       "'zzzzzzzz'"
      ]
     },
     "execution_count": 16,
     "metadata": {},
     "output_type": "execute_result"
    }
   ],
   "source": [
    "def multiply(x, y, z):\n",
    "    return x * y * z\n",
    "\n",
    "# Let's use the function\n",
    "numbers = {'z': 3}\n",
    "multiply(2, 4, *numbers)"
   ]
  },
  {
   "cell_type": "code",
   "execution_count": 19,
   "id": "7f82a6be",
   "metadata": {},
   "outputs": [
    {
     "data": {
      "text/plain": [
       "36"
      ]
     },
     "execution_count": 19,
     "metadata": {},
     "output_type": "execute_result"
    }
   ],
   "source": [
    "def add_powers(numbers, power):\n",
    "    result = 1\n",
    "    for number in numbers:\n",
    "        result *= number**power\n",
    "\n",
    "    return result\n",
    "\n",
    "# Let's use the function\n",
    "kwargs = {'numbers': [1, 2, 3], 'power': 2}\n",
    "add_powers(**kwargs)"
   ]
  },
  {
   "cell_type": "code",
   "execution_count": 21,
   "id": "34341782",
   "metadata": {},
   "outputs": [
    {
     "ename": "TypeError",
     "evalue": "unsupported operand type(s) for ** or pow(): 'str' and 'str'",
     "output_type": "error",
     "traceback": [
      "\u001b[1;31m---------------------------------------------------------------------------\u001b[0m",
      "\u001b[1;31mTypeError\u001b[0m                                 Traceback (most recent call last)",
      "Cell \u001b[1;32mIn[21], line 10\u001b[0m\n\u001b[0;32m      8\u001b[0m \u001b[38;5;66;03m# Let's use the function\u001b[39;00m\n\u001b[0;32m      9\u001b[0m kwargs \u001b[38;5;241m=\u001b[39m {\u001b[38;5;124m'\u001b[39m\u001b[38;5;124mnumbers\u001b[39m\u001b[38;5;124m'\u001b[39m: [\u001b[38;5;241m1\u001b[39m, \u001b[38;5;241m2\u001b[39m, \u001b[38;5;241m3\u001b[39m], \u001b[38;5;124m'\u001b[39m\u001b[38;5;124mpower\u001b[39m\u001b[38;5;124m'\u001b[39m: \u001b[38;5;241m2\u001b[39m}\n\u001b[1;32m---> 10\u001b[0m \u001b[43madd_powers\u001b[49m\u001b[43m(\u001b[49m\u001b[38;5;241;43m*\u001b[39;49m\u001b[43mkwargs\u001b[49m\u001b[43m)\u001b[49m\n",
      "Cell \u001b[1;32mIn[21], line 4\u001b[0m, in \u001b[0;36madd_powers\u001b[1;34m(numbers, power)\u001b[0m\n\u001b[0;32m      2\u001b[0m result \u001b[38;5;241m=\u001b[39m \u001b[38;5;241m1\u001b[39m\n\u001b[0;32m      3\u001b[0m \u001b[38;5;28;01mfor\u001b[39;00m number \u001b[38;5;129;01min\u001b[39;00m numbers:\n\u001b[1;32m----> 4\u001b[0m     result \u001b[38;5;241m*\u001b[39m\u001b[38;5;241m=\u001b[39m \u001b[43mnumber\u001b[49m\u001b[38;5;241;43m*\u001b[39;49m\u001b[38;5;241;43m*\u001b[39;49m\u001b[43mpower\u001b[49m\n\u001b[0;32m      6\u001b[0m \u001b[38;5;28;01mreturn\u001b[39;00m result\n",
      "\u001b[1;31mTypeError\u001b[0m: unsupported operand type(s) for ** or pow(): 'str' and 'str'"
     ]
    }
   ],
   "source": [
    "def add_powers(numbers, power):\n",
    "    result = 1\n",
    "    for number in numbers:\n",
    "        result *= number**power\n",
    "\n",
    "    return result\n",
    "\n",
    "# Let's use the function\n",
    "kwargs = {'numbers': [1, 2, 3], 'power': 2}\n",
    "add_powers(*kwargs)"
   ]
  },
  {
   "cell_type": "code",
   "execution_count": 20,
   "id": "4ddd5e88",
   "metadata": {},
   "outputs": [
    {
     "data": {
      "text/plain": [
       "36"
      ]
     },
     "execution_count": 20,
     "metadata": {},
     "output_type": "execute_result"
    }
   ],
   "source": [
    "def add_powers(**kwargs):\n",
    "    numbers = kwargs['numbers']\n",
    "    power = kwargs['power']\n",
    "\n",
    "    result = 1\n",
    "    for number in numbers:\n",
    "        result *= number**power\n",
    "\n",
    "    return result\n",
    "\n",
    "\n",
    "# Let's use the function\n",
    "add_powers(numbers=[1, 2, 3], power=2)"
   ]
  },
  {
   "cell_type": "markdown",
   "id": "aff17ee1",
   "metadata": {},
   "source": [
    "### 2.3 Passing variable to functions"
   ]
  },
  {
   "cell_type": "code",
   "execution_count": 22,
   "id": "b7f16cd6",
   "metadata": {},
   "outputs": [
    {
     "name": "stdout",
     "output_type": "stream",
     "text": [
      "BEFORE\t--->\tNumber: 10, Array: [10], List: [10]\n"
     ]
    }
   ],
   "source": [
    "def do_something(inside_number, inside_array, inside_list):\n",
    "    print('Doing something!')\n",
    "    inside_number *= 2\n",
    "    inside_array *= 2\n",
    "    inside_list *= 2\n",
    "\n",
    "outside_number=10\n",
    "outside_array=np.array([10])\n",
    "outside_list=[10]\n",
    "\n",
    "print(\n",
    "    f\"BEFORE\\t--->\\tNumber: {outside_number}, Array: {outside_array}, List: {outside_list}\")"
   ]
  },
  {
   "cell_type": "code",
   "execution_count": 23,
   "id": "b6941069",
   "metadata": {},
   "outputs": [
    {
     "name": "stdout",
     "output_type": "stream",
     "text": [
      "Doing something!\n"
     ]
    }
   ],
   "source": [
    "do_something(outside_number, outside_list, outside_array)"
   ]
  },
  {
   "cell_type": "code",
   "execution_count": 24,
   "id": "e4b329d4",
   "metadata": {},
   "outputs": [
    {
     "name": "stdout",
     "output_type": "stream",
     "text": [
      "AFTER\t--->\tNumber: 10, Array: [20], List: [10, 10]\n"
     ]
    }
   ],
   "source": [
    "print(\n",
    "    f\"AFTER\\t--->\\tNumber: {outside_number}, Array: {outside_array}, List: {outside_list}\")"
   ]
  },
  {
   "cell_type": "markdown",
   "id": "edf305bf",
   "metadata": {},
   "source": [
    "## 3 There is more to exceptions"
   ]
  },
  {
   "cell_type": "markdown",
   "id": "052a347c",
   "metadata": {},
   "source": [
    "### 3.1 A list of exceptions"
   ]
  },
  {
   "cell_type": "markdown",
   "id": "a4a3b849",
   "metadata": {},
   "source": [
    "![](List_of_exceptions.png)"
   ]
  },
  {
   "cell_type": "markdown",
   "id": "8a18a0f2",
   "metadata": {},
   "source": [
    "### 3.2 Handling specific exceptions"
   ]
  },
  {
   "cell_type": "code",
   "execution_count": 25,
   "id": "bc10ab67",
   "metadata": {},
   "outputs": [
    {
     "name": "stdout",
     "output_type": "stream",
     "text": [
      "Give me a number and I will calculate its square.4.1\n",
      "Oh oh! I cannot square 4.1!\n"
     ]
    }
   ],
   "source": [
    "try:\n",
    "    number=input(\"Give me a number and I will calculate its square.\")\n",
    "    square=int(number)**2\n",
    "    print(f'The square of {number} is {square}!')\n",
    "except ValueError:\n",
    "    print(f\"Oh oh! I cannot square {number}!\")"
   ]
  },
  {
   "cell_type": "markdown",
   "id": "7ea181ca",
   "metadata": {},
   "source": [
    "### 3.3 try also has an else"
   ]
  },
  {
   "cell_type": "code",
   "execution_count": 1,
   "id": "f90045fd",
   "metadata": {},
   "outputs": [
    {
     "name": "stdout",
     "output_type": "stream",
     "text": [
      "Give me a number and I will calculate its square.4\n",
      "The square of 4 is 16!\n",
      "Yeah! Things ran without a problem!\n"
     ]
    }
   ],
   "source": [
    "try:\n",
    "    number=input(\"Give me a number and I will calculate its square.\")\n",
    "    square=int(number)**2\n",
    "    print(f'The square of {number} is {square}!')\n",
    "except ValueError:\n",
    "    print(f\"Oh oh! I cannot square {number}!\")\n",
    "else:\n",
    "    print('Yeah! Things ran without a problem!')"
   ]
  },
  {
   "cell_type": "markdown",
   "id": "4377f7bd",
   "metadata": {},
   "source": [
    "## Explore 1 :  Modularise"
   ]
  },
  {
   "cell_type": "code",
   "execution_count": 2,
   "id": "1dc08895",
   "metadata": {},
   "outputs": [
    {
     "data": {
      "text/plain": [
       "3"
      ]
     },
     "execution_count": 2,
     "metadata": {},
     "output_type": "execute_result"
    }
   ],
   "source": [
    "import my_math\n",
    "my_math.add(1, 2)"
   ]
  },
  {
   "cell_type": "code",
   "execution_count": 3,
   "id": "42cc1948",
   "metadata": {},
   "outputs": [
    {
     "data": {
      "text/plain": [
       "3"
      ]
     },
     "execution_count": 3,
     "metadata": {},
     "output_type": "execute_result"
    }
   ],
   "source": [
    "from my_math import add as my_add\n",
    "my_add(1, 2)"
   ]
  },
  {
   "cell_type": "code",
   "execution_count": 4,
   "id": "8becb2b8",
   "metadata": {},
   "outputs": [
    {
     "data": {
      "text/plain": [
       "3"
      ]
     },
     "execution_count": 4,
     "metadata": {},
     "output_type": "execute_result"
    }
   ],
   "source": [
    "my_math.add(1,2)"
   ]
  },
  {
   "cell_type": "code",
   "execution_count": 5,
   "id": "e937685c",
   "metadata": {},
   "outputs": [
    {
     "data": {
      "text/plain": [
       "6.0"
      ]
     },
     "execution_count": 5,
     "metadata": {},
     "output_type": "execute_result"
    }
   ],
   "source": [
    "my_math.divide(18,3)"
   ]
  },
  {
   "cell_type": "markdown",
   "id": "3acffd96",
   "metadata": {},
   "source": [
    "## Explore 2 :  Angles and trig functions"
   ]
  },
  {
   "cell_type": "code",
   "execution_count": 8,
   "id": "3e90a321",
   "metadata": {},
   "outputs": [
    {
     "data": {
      "text/plain": [
       "[[1.5707963267948966, 1.0],\n",
       " [3.141592653589793, -1.0],\n",
       " [0.7853981633974483, 0.9999999999999999]]"
      ]
     },
     "execution_count": 8,
     "metadata": {},
     "output_type": "execute_result"
    }
   ],
   "source": [
    "def my_trig_function(*args, **kwargs):\n",
    "    result = []\n",
    "    functions = kwargs['functions']\n",
    "    for i, angle in enumerate(args):\n",
    "        trig_function_value = functions[i](angle)\n",
    "        result.append([angle, trig_function_value])\n",
    "\n",
    "    return(result)\n",
    "\n",
    "# Using the function\n",
    "my_trig_function(np.pi/2, np.pi, np.pi / 4,\n",
    "                functions=[np.sin, np.cos, np.tan]\n",
    "                )"
   ]
  },
  {
   "cell_type": "code",
   "execution_count": 9,
   "id": "a1451f6a",
   "metadata": {},
   "outputs": [
    {
     "data": {
      "text/plain": [
       "[[90, 1.0], [180, -1.0], [45, 0.9999999999999999]]"
      ]
     },
     "execution_count": 9,
     "metadata": {},
     "output_type": "execute_result"
    }
   ],
   "source": [
    "def my_trig_function(*args, **kwargs):\n",
    "    result = []\n",
    "    functions = kwargs['functions']\n",
    "    for i, angle in enumerate(args):\n",
    "        trig_function_value = functions[i](angle/180*np.pi)\n",
    "        result.append([angle, trig_function_value])\n",
    "\n",
    "    return(result)\n",
    "\n",
    "# Using the function\n",
    "my_trig_function(90, 180, 45,\n",
    "                functions=[np.sin, np.cos, np.tan]\n",
    "                )"
   ]
  }
 ],
 "metadata": {
  "kernelspec": {
   "display_name": "Python 3 (ipykernel)",
   "language": "python",
   "name": "python3"
  },
  "language_info": {
   "codemirror_mode": {
    "name": "ipython",
    "version": 3
   },
   "file_extension": ".py",
   "mimetype": "text/x-python",
   "name": "python",
   "nbconvert_exporter": "python",
   "pygments_lexer": "ipython3",
   "version": "3.10.8"
  },
  "toc": {
   "base_numbering": 1,
   "nav_menu": {},
   "number_sections": true,
   "sideBar": true,
   "skip_h1_title": false,
   "title_cell": "Table of Contents",
   "title_sidebar": "Contents",
   "toc_cell": false,
   "toc_position": {},
   "toc_section_display": true,
   "toc_window_display": false
  },
  "varInspector": {
   "cols": {
    "lenName": 16,
    "lenType": 16,
    "lenVar": 40
   },
   "kernels_config": {
    "python": {
     "delete_cmd_postfix": "",
     "delete_cmd_prefix": "del ",
     "library": "var_list.py",
     "varRefreshCmd": "print(var_dic_list())"
    },
    "r": {
     "delete_cmd_postfix": ") ",
     "delete_cmd_prefix": "rm(",
     "library": "var_list.r",
     "varRefreshCmd": "cat(var_dic_list()) "
    }
   },
   "types_to_exclude": [
    "module",
    "function",
    "builtin_function_or_method",
    "instance",
    "_Feature"
   ],
   "window_display": false
  },
  "vscode": {
   "interpreter": {
    "hash": "31f2aee4e71d21fbe5cf8b01ff0e069b9275f58929596ceb00d14d90e3e16cd6"
   }
  }
 },
 "nbformat": 4,
 "nbformat_minor": 5
}
